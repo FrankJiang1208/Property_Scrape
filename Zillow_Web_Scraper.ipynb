{
 "cells": [
  {
   "cell_type": "code",
   "execution_count": 1889,
   "metadata": {},
   "outputs": [],
   "source": [
    "import os\n",
    "from bs4 import BeautifulSoup\n",
    "import numpy as np\n",
    "import pandas as pd\n",
    "import regex as re\n",
    "import requests\n",
    "from fake_headers import Headers\n",
    "\n",
    "header = Headers(\n",
    "        browser=\"chrome\",  # Generate only Chrome UA\n",
    "        os=\"win\",  # Generate ony Windows platform\n",
    "        headers=True  # generate misc headers\n",
    "    )\n",
    "\n",
    "pd.set_option('display.max_rows', None)\n",
    "pd.set_option('mode.chained_assignment',None)"
   ]
  },
  {
   "cell_type": "code",
   "execution_count": 1890,
   "metadata": {},
   "outputs": [],
   "source": [
    "headers = {\n",
    "    'authority': 'www.zillow.com',\n",
    "    'sec-ch-ua': '\"Google Chrome\";v=\"89\", \"Chromium\";v=\"89\", \";Not A Brand\";v=\"99\"',\n",
    "    'sec-ch-ua-mobile': '?0',\n",
    "    'user-agent': \"Mozilla/5.0 (Windows NT 10.0; Win64; x64) AppleWebKit/537.36 (KHTML, like Gecko) Chrome/74.0.3729.169 Safari/537.36\",\n",
    "    'accept': '*/*',\n",
    "    'sec-fetch-site': 'same-origin',\n",
    "    'sec-fetch-mode': 'cors',\n",
    "    'sec-fetch-dest': 'empty',\n",
    "    'referer': 'https://www.zillow.com/ok/2_p/?searchQueryState=%7B%22pagination%22%3A%7B%22currentPage%22%3A2%7D%2C%22usersSearchTerm%22%3A%22OK%22%2C%22mapBounds%22%3A%7B%22west%22%3A-104.90186123437499%2C%22east%22%3A-92.53125576562499%2C%22south%22%3A32.436077585580584%2C%22north%22%3A38.11770469384586%7D%2C%22regionSelection%22%3A%5B%7B%22regionId%22%3A45%2C%22regionType%22%3A2%7D%5D%2C%22isMapVisible%22%3Atrue%2C%22filterState%22%3A%7B%22built%22%3A%7B%22min%22%3A0%2C%22max%22%3A2010%7D%2C%22ah%22%3A%7B%22value%22%3Atrue%7D%7D%2C%22isListVisible%22%3Atrue%2C%22mapZoom%22%3A7%7D',\n",
    "    'accept-language': 'en-US,en;q=0.9',\n",
    "}\n",
    "list1112221=['new','fresh%20paint','quartz','remodeled','renovated','shiplap','soft%20close','staging','stainless','turn%20key','updated']\n",
    "\n",
    "#NB. Original query string below. It seems impossible to parse and\n",
    "#reproduce query strings 100% accurately so the one below is given\n",
    "#in case the reproduced version is not \"correct\".\n",
    "# response = requests.get('https://www.zillow.com/search/GetSearchPageState.htm?searchQueryState=%7B%22pagination%22%3A%7B%22currentPage%22%3A2%7D%2C%22usersSearchTerm%22%3A%22Los%20Angeles%22%2C%22mapBounds%22%3A%7B%22west%22%3A-118.88620504589845%2C%22east%22%3A-117.93726095410157%2C%22south%22%3A33.54554919445917%2C%22north%22%3A34.49481997322805%7D%2C%22regionSelection%22%3A%5B%7B%22regionId%22%3A12447%2C%22regionType%22%3A6%7D%5D%2C%22isMapVisible%22%3Atrue%2C%22filterState%22%3A%7B%22sortSelection%22%3A%7B%22value%22%3A%22globalrelevanceex%22%7D%2C%22isAllHomes%22%3A%7B%22value%22%3Atrue%7D%7D%2C%22isListVisible%22%3Atrue%7D&wants=\\{%22cat1%22:\\[%22listResults%22,%22mapResults%22\\],%22cat2%22:\\[%22total%22\\]\\}&requestId=3', headers=headers)\n"
   ]
  },
  {
   "cell_type": "code",
   "execution_count": 1891,
   "metadata": {},
   "outputs": [],
   "source": [
    "#kword = 'turn%20key'\n",
    "kword = 'updated'\n",
    "state='WA'\n",
    "with requests.session() as s:\n",
    "    page = 1\n",
    "    end_page = 20\n",
    "    url = ''\n",
    "    url_list = []\n",
    "    \n",
    "    while page <= end_page:\n",
    "        \n",
    "        url = 'https://www.zillow.com/wa/2_p/?searchQueryState=%7B%22pagination%22%3A%7B%22currentPage%22%3A'+str(page)+'%7D%2C%22usersSearchTerm%22%3A%22WA%22%2C%22mapBounds%22%3A%7B%22west%22%3A-127.067579734375%2C%22east%22%3A-114.696974265625%2C%22south%22%3A44.88671077042072%2C%22north%22%3A49.61043400158961%7D%2C%22regionSelection%22%3A%5B%7B%22regionId%22%3A59%2C%22regionType%22%3A2%7D%5D%2C%22isMapVisible%22%3Atrue%2C%22filterState%22%3A%7B%22sort%22%3A%7B%22value%22%3A%22globalrelevanceex%22%7D%2C%22ah%22%3A%7B%22value%22%3Atrue%7D%2C%22att%22%3A%7B%22value%22%3A%22'+kword+'%22%7D%2C%22built%22%3A%7B%22max%22%3A2010%7D%7D%2C%22isListVisible%22%3Atrue%2C%22mapZoom%22%3A7%7D'\n",
    "        url_list.append(url)\n",
    "        page += 1\n",
    "    \n",
    "    request = ''\n",
    "    request_list = []\n",
    "    \n",
    "    for url in url_list:\n",
    "        request = s.get(url, headers=headers)\n",
    "        request_list.append(request)\n",
    "    \n",
    "soup = ''\n",
    "soup_list = []\n",
    "\n",
    "for request in request_list:\n",
    "    soup = BeautifulSoup(request.content, 'lxml')\n",
    "    soup_list.append(soup)"
   ]
  },
  {
   "cell_type": "code",
   "execution_count": 1892,
   "metadata": {},
   "outputs": [],
   "source": [
    "df_list = []\n",
    "for soup in soup_list:\n",
    "    df = pd.DataFrame()\n",
    "    for i in soup:\n",
    "        address = soup.find_all (class_= 'list-card-addr')\n",
    "        price = list(soup.find_all (class_='list-card-price'))\n",
    "        beds = list(soup.find_all(\"ul\", class_=\"list-card-details\"))\n",
    "        details = soup.find_all ('div', {'class': 'list-card-details'})\n",
    "        home_type = soup.find_all ('div', {'class': 'list-card-footer'})\n",
    "        last_updated = soup.find_all ('div', {'class': 'list-card-top'})\n",
    "        brokerage = list(soup.find_all(class_= 'list-card-brokerage list-card-img-overlay',text=True))\n",
    "        link = soup.find_all (class_= 'list-card-link')\n",
    "\n",
    "        df['prices'] = price\n",
    "        df['address'] = address\n",
    "        df['beds'] = beds\n",
    "        \n",
    "    urls = []\n",
    "    \n",
    "    for link in soup.find_all(\"article\"):\n",
    "          try:\n",
    "               href = link.find('a',class_=\"list-card-link\")['href']\n",
    "          except Exception as e:\n",
    "               href=''\n",
    "\t\t#raise e \n",
    "\n",
    "          urls.append(href)\n",
    "    if '' in urls:\n",
    "          urls.remove('')\n",
    "    df['links'] = urls\n",
    "    df['links'] = df['links'].astype('str')\n",
    "    df_list.append(df)"
   ]
  },
  {
   "cell_type": "code",
   "execution_count": 1893,
   "metadata": {},
   "outputs": [],
   "source": [
    "df = pd.concat(df_list).reset_index().drop(columns='index')"
   ]
  },
  {
   "cell_type": "code",
   "execution_count": 1894,
   "metadata": {},
   "outputs": [],
   "source": [
    "df['address'] = df['address'].astype('str')\n",
    "df['beds'] = df['beds'].astype('str')"
   ]
  },
  {
   "cell_type": "code",
   "execution_count": 1895,
   "metadata": {},
   "outputs": [],
   "source": [
    "#remove html tags\n",
    "#df['prices'] = df['prices'].replace('\\[', '', regex=True)\n",
    "df.loc[:,'address'] = df.loc[:,'address'].replace('<address class=\"list-card-addr\">', '', regex=True)\n",
    "#df['prices'] = df['prices'].replace('\\]', '', regex=True)\n",
    "df.loc[:,'address'] = df.loc[:,'address'].replace('</address>', '', regex=True)\n",
    "#df['prices'] = df['prices'].str.replace(r'\\D', '')\n",
    "\n",
    "#filter unwanted property types\n",
    "df = df[~df['beds'].str.contains(\"Land for sale\")]\n",
    "\n",
    "#remove html tags from beds column\n",
    "df.loc[:,'beds'] = df.loc[:,'beds'].replace('<ul class=\"list-card-details\"><li class=\"\">', ' ', regex=True)\n",
    "df.loc[:,'beds'] = df.loc[:,'beds'].replace('<abbr class=\"list-card-label\"> <!-- -->bds</abbr></li><li class=\"\">', ' ', regex=True)\n",
    "df.loc[:,'beds'] = df.loc[:,'beds'].replace('<abbr class=\"list-card-label\"> <!-- -->ba</abbr></li><li class=\"\">', ' ', regex=True)\n",
    "df.loc[:,'beds'] = df.loc[:,'beds'].replace('<abbr class=\"list-card-label\"> <!-- -->bd</abbr></li><li class=\"\">', ' ', regex=True)\n",
    "df.loc[:,'beds'] = df.loc[:,'beds'].replace('-<abbr class=\"list-card-label\"> <!-- -->Foreclosure</abbr>', '- Foreclosure', regex=True)\n",
    "df.loc[:,'beds'] = df.loc[:,'beds'].replace('<abbr class=\"list-card-label\"> <!-- -->sqft</abbr></li><li class=\"list-card-statusText\">', ' ', regex=True)\n",
    "df.loc[:,'beds'] = df.loc[:,'beds'].replace('<abbr class=\"list-card-label\"> <!-- -->acres lot</abbr></li><li class=\"list-card-statusText\">', ' ', regex=True)\n",
    "df.loc[:,'beds'] = df.loc[:,'beds'].replace('</li></ul>', '', regex=True)\n",
    "df.loc[:,'beds'] = df.loc[:,'beds'].replace('--', '0', regex=True)\n",
    "df.loc[:,'beds'] = df.loc[:,'beds'].replace('Multi-family', 'Multifamily', regex=True)\n",
    "df.loc[:,'beds'] = df.loc[:,'beds'].replace(' for sale', '', regex=True)\n",
    "df.loc[:,'beds'] = df.loc[:,'beds'].replace('-<abbr class=\"list-card-label\"> <!0 0>Auction</abbr>', '- Auction', regex=True)\n",
    "df.loc[:,'beds'] = df.loc[:,'beds'].replace('-<abbr class=\"list-card-label\"> <!0 0>Pending</abbr>', '- Pending', regex=True)\n",
    "\n",
    "#split beds column into beds, bath and sq_feet\n",
    "#df[['beds','baths','sq_feet']] = df.beds.str.split(expand=True)"
   ]
  },
  {
   "cell_type": "code",
   "execution_count": 1896,
   "metadata": {},
   "outputs": [],
   "source": [
    "df['bed'] = df.beds.apply(\n",
    "    lambda x: pd.Series(str(x).split('-')[0]))\n"
   ]
  },
  {
   "cell_type": "code",
   "execution_count": 1897,
   "metadata": {},
   "outputs": [],
   "source": [
    "df['type'] = df.beds.apply(\n",
    "    lambda x: pd.Series(str(x).split('-')[1]))"
   ]
  },
  {
   "cell_type": "code",
   "execution_count": 1898,
   "metadata": {},
   "outputs": [
    {
     "data": {
      "text/html": [
       "<div>\n",
       "<style scoped>\n",
       "    .dataframe tbody tr th:only-of-type {\n",
       "        vertical-align: middle;\n",
       "    }\n",
       "\n",
       "    .dataframe tbody tr th {\n",
       "        vertical-align: top;\n",
       "    }\n",
       "\n",
       "    .dataframe thead th {\n",
       "        text-align: right;\n",
       "    }\n",
       "</style>\n",
       "<table border=\"1\" class=\"dataframe\">\n",
       "  <thead>\n",
       "    <tr style=\"text-align: right;\">\n",
       "      <th></th>\n",
       "      <th>prices</th>\n",
       "      <th>address</th>\n",
       "      <th>beds</th>\n",
       "      <th>links</th>\n",
       "      <th>bed</th>\n",
       "      <th>type</th>\n",
       "    </tr>\n",
       "  </thead>\n",
       "  <tbody>\n",
       "    <tr>\n",
       "      <th>0</th>\n",
       "      <td>[$565,600]</td>\n",
       "      <td>7510 NW 11th Ave, Vancouver, WA 98665</td>\n",
       "      <td>3 3 2,322 - House</td>\n",
       "      <td>https://www.zillow.com/homedetails/7510-NW-11t...</td>\n",
       "      <td>3 3 2,322</td>\n",
       "      <td>House</td>\n",
       "    </tr>\n",
       "    <tr>\n",
       "      <th>1</th>\n",
       "      <td>[$689,200]</td>\n",
       "      <td>117 W 37th St, Vancouver, WA 98660</td>\n",
       "      <td>4 3 2,548 - House</td>\n",
       "      <td>https://www.zillow.com/homedetails/117-W-37th-...</td>\n",
       "      <td>4 3 2,548</td>\n",
       "      <td>House</td>\n",
       "    </tr>\n",
       "    <tr>\n",
       "      <th>2</th>\n",
       "      <td>[$634,900]</td>\n",
       "      <td>8901 NW 12th Ave, Vancouver, WA 98665</td>\n",
       "      <td>4 4 2,900 - House</td>\n",
       "      <td>https://www.zillow.com/homedetails/8901-NW-12t...</td>\n",
       "      <td>4 4 2,900</td>\n",
       "      <td>House</td>\n",
       "    </tr>\n",
       "    <tr>\n",
       "      <th>3</th>\n",
       "      <td>[$399,000]</td>\n",
       "      <td>19424 Military Rd S, Seatac, WA 98188</td>\n",
       "      <td>2 2 1,110 -&lt;abbr class=\"list-card-label\"&gt; &lt;!0...</td>\n",
       "      <td>https://www.zillow.com/homedetails/19424-Milit...</td>\n",
       "      <td>2 2 1,110</td>\n",
       "      <td>&lt;abbr class=\"list</td>\n",
       "    </tr>\n",
       "    <tr>\n",
       "      <th>4</th>\n",
       "      <td>[$475,000]</td>\n",
       "      <td>4700 NW Lavina St, Vancouver, WA 98663</td>\n",
       "      <td>3 2 1,389 -&lt;abbr class=\"list-card-label\"&gt; &lt;!0...</td>\n",
       "      <td>https://www.zillow.com/homedetails/4700-NW-Lav...</td>\n",
       "      <td>3 2 1,389</td>\n",
       "      <td>&lt;abbr class=\"list</td>\n",
       "    </tr>\n",
       "  </tbody>\n",
       "</table>\n",
       "</div>"
      ],
      "text/plain": [
       "       prices                                 address  \\\n",
       "0  [$565,600]   7510 NW 11th Ave, Vancouver, WA 98665   \n",
       "1  [$689,200]      117 W 37th St, Vancouver, WA 98660   \n",
       "2  [$634,900]   8901 NW 12th Ave, Vancouver, WA 98665   \n",
       "3  [$399,000]   19424 Military Rd S, Seatac, WA 98188   \n",
       "4  [$475,000]  4700 NW Lavina St, Vancouver, WA 98663   \n",
       "\n",
       "                                                beds  \\\n",
       "0                                  3 3 2,322 - House   \n",
       "1                                  4 3 2,548 - House   \n",
       "2                                  4 4 2,900 - House   \n",
       "3   2 2 1,110 -<abbr class=\"list-card-label\"> <!0...   \n",
       "4   3 2 1,389 -<abbr class=\"list-card-label\"> <!0...   \n",
       "\n",
       "                                               links          bed  \\\n",
       "0  https://www.zillow.com/homedetails/7510-NW-11t...   3 3 2,322    \n",
       "1  https://www.zillow.com/homedetails/117-W-37th-...   4 3 2,548    \n",
       "2  https://www.zillow.com/homedetails/8901-NW-12t...   4 4 2,900    \n",
       "3  https://www.zillow.com/homedetails/19424-Milit...   2 2 1,110    \n",
       "4  https://www.zillow.com/homedetails/4700-NW-Lav...   3 2 1,389    \n",
       "\n",
       "                type  \n",
       "0              House  \n",
       "1              House  \n",
       "2              House  \n",
       "3  <abbr class=\"list  \n",
       "4  <abbr class=\"list  "
      ]
     },
     "execution_count": 1898,
     "metadata": {},
     "output_type": "execute_result"
    }
   ],
   "source": [
    "df.head()"
   ]
  },
  {
   "cell_type": "code",
   "execution_count": 1899,
   "metadata": {},
   "outputs": [],
   "source": [
    "df[['bed', 'baths', 'sq_feet']] = df.bed.str.split(expand=True)"
   ]
  },
  {
   "cell_type": "code",
   "execution_count": 1900,
   "metadata": {},
   "outputs": [],
   "source": [
    "df['prices']=df.prices.apply(\n",
    "    lambda x: pd.Series(str(x).split('>')[1].split('<')[0]))"
   ]
  },
  {
   "cell_type": "code",
   "execution_count": 1901,
   "metadata": {},
   "outputs": [],
   "source": [
    "urls=df['links']"
   ]
  },
  {
   "cell_type": "code",
   "execution_count": 1902,
   "metadata": {},
   "outputs": [],
   "source": [
    "urls1=urls.tolist()"
   ]
  },
  {
   "cell_type": "code",
   "execution_count": 1903,
   "metadata": {},
   "outputs": [],
   "source": [
    "import json\n",
    "agent=[]\n",
    "contact=[]\n",
    "agentComp=[]\n",
    "des=[]\n",
    "for i in urls:\n",
    "    headers = {\n",
    "    'authority': 'www.zillow.com',\n",
    "    'sec-ch-ua': '\"Google Chrome\";v=\"89\", \"Chromium\";v=\"89\", \";Not A Brand\";v=\"99\"',\n",
    "    'sec-ch-ua-mobile': '?0',\n",
    "    'user-agent': 'Mozilla/5.0 (Windows NT 10.0; Win64; x64) AppleWebKit/537.36 (KHTML, like Gecko) Chrome/74.0.3729.169 Safari/537.36',\n",
    "    'accept': '*/*',\n",
    "    'sec-fetch-site': 'same-origin',\n",
    "    'sec-fetch-mode': 'cors',\n",
    "    'sec-fetch-dest': 'empty',\n",
    "    'referer': i,\n",
    "    'accept-language': 'en-US,en;q=0.9',\n",
    "    }\n",
    "    response=requests.get(i,headers=headers)\n",
    "    soup=BeautifulSoup(response.content,'lxml')\n",
    "    data = json.loads(soup.find_all('script', type='application/json')[3].string)\n",
    "    data1=json.loads(data['apiCache'])\n",
    "    l1=list(data1.keys())\n",
    "    a=(str(l1[1]))\n",
    "    data2=data1[a]['property']['attributionInfo']\n",
    "    agent.append(data2['infoString4'])\n",
    "    contact.append(data2['infoString5'])\n",
    "    agentComp.append(data2['infoString6'])\n",
    "    des.append(data1[a]['property']['description'])\n",
    "\n"
   ]
  },
  {
   "cell_type": "code",
   "execution_count": 1904,
   "metadata": {},
   "outputs": [],
   "source": [
    "df['Listing Agent Name']=agent\n",
    "df['Listing Agent Contact']=contact\n",
    "df['Listing Agent Company']=agentComp\n",
    "df['Description']=des"
   ]
  },
  {
   "cell_type": "code",
   "execution_count": 1905,
   "metadata": {},
   "outputs": [],
   "source": [
    "df['Key Word']=kword"
   ]
  },
  {
   "cell_type": "code",
   "execution_count": 1906,
   "metadata": {},
   "outputs": [],
   "source": [
    "df=df.drop(['beds'],axis=1)"
   ]
  },
  {
   "cell_type": "code",
   "execution_count": 1907,
   "metadata": {},
   "outputs": [],
   "source": [
    "df.to_csv(state+'-'+kword+'.csv')"
   ]
  }
 ],
 "metadata": {
  "kernelspec": {
   "display_name": "Python 3",
   "language": "python",
   "name": "python3"
  },
  "language_info": {
   "codemirror_mode": {
    "name": "ipython",
    "version": 3
   },
   "file_extension": ".py",
   "mimetype": "text/x-python",
   "name": "python",
   "nbconvert_exporter": "python",
   "pygments_lexer": "ipython3",
   "version": "3.8.5"
  }
 },
 "nbformat": 4,
 "nbformat_minor": 4
}
