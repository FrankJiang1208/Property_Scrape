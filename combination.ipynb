{
 "cells": [
  {
   "cell_type": "code",
   "execution_count": 17,
   "metadata": {},
   "outputs": [],
   "source": [
    "from bs4 import BeautifulSoup\n",
    "import requests\n",
    "from fake_useragent import UserAgent\n",
    "import requests\n",
    "   \n",
    "from fake_headers import Headers\n",
    "\n",
    "header = Headers(\n",
    "        browser=\"chrome\",  # Generate only Chrome UA\n",
    "        os=\"win\",  # Generate ony Windows platform\n",
    "        headers=True  # generate misc headers\n",
    "    )\n",
    "headers1={\n",
    "        'authority': 'www.realtor.com',\n",
    "    'sec-ch-ua': '\"Google Chrome\";v=\"89\", \"Chromium\";v=\"89\", \";Not A Brand\";v=\"99\"',\n",
    "    'sec-ch-ua-mobile': '?0',\n",
    "    'user-agent': 'Mozilla/5.0 (Windows NT 10.0; Win64; x64) AppleWebKit/537.36 (KHTML, like Gecko) Chrome/89.0.4389.114 Safari/537.36',\n",
    "    'accept': '*/*',\n",
    "    'sec-fetch-site': 'same-origin',\n",
    "    'sec-fetch-mode': 'cors',\n",
    "    'sec-fetch-dest': 'empty',\n",
    "    'accept-language': 'en-US,en;q=0.9',\n",
    "}\n",
    "#'Accept-Encoding': 'identity'\n",
    "url = 'https://www.realtor.com/realestateandhomes-search/Colorado/age-12/keyword-new/pg-2'\n",
    "\n",
    "\n",
    "response=requests.get(url,headers=header.generate())\n",
    "soup = BeautifulSoup(response.content, 'lxml')"
   ]
  },
  {
   "cell_type": "code",
   "execution_count": 18,
   "metadata": {},
   "outputs": [],
   "source": [
    "state = 'Colorado/'\n",
    "page = 1\n",
    "end_page = 2\n",
    "keyword='new'\n",
    "url = ''\n",
    "url_list = []\n",
    "    \n",
    "while page <= end_page:\n",
    "        url = 'https://www.realtor.com/realestateandhomes-search/' +state+'age-12/'+'keyword-'+keyword+'/pg'+f'{page}'\n",
    "        url_list.append(url)\n",
    "        page += 1\n",
    "    \n",
    "request = ''\n",
    "request_list = []\n",
    "    \n",
    "for url in url_list:\n",
    "        request = requests.get(url, headers=headers1)\n",
    "        request_list.append(request)\n",
    "    \n",
    "soup = ''\n",
    "soup_list = []\n",
    "\n",
    "for request in request_list:\n",
    "    soup = BeautifulSoup(request.content, 'lxml')\n",
    "    soup_list.append(soup)"
   ]
  },
  {
   "cell_type": "code",
   "execution_count": 19,
   "metadata": {},
   "outputs": [],
   "source": [
    "urls=[]\n",
    "for i in soup_list:\n",
    "    for item in soup.select('.component_property-card'):\n",
    "        try:\n",
    "            urls.append('https://realtor.com'+item.select('a')[0]['href'])\n",
    "        except Exception as e:\n",
    "            print('None')"
   ]
  },
  {
   "cell_type": "code",
   "execution_count": 20,
   "metadata": {},
   "outputs": [
    {
     "data": {
      "text/plain": [
       "[]"
      ]
     },
     "execution_count": 20,
     "metadata": {},
     "output_type": "execute_result"
    }
   ],
   "source": [
    "urls"
   ]
  },
  {
   "cell_type": "code",
   "execution_count": 5,
   "metadata": {},
   "outputs": [],
   "source": [
    "import time\n",
    "price=[]\n",
    "bed=[]\n",
    "bath=[]\n",
    "sqrt=[]\n",
    "lot_sqrt=[]\n",
    "address=[]\n",
    "age=[]\n",
    "presenter=[]\n",
    "broker=[]\n",
    "for i in urls:\n",
    "\n",
    "#'Accept-Encoding': 'identity'\n",
    "    response=requests.get(i,headers=header.generate())\n",
    "    soup=BeautifulSoup(response.content,'lxml')\n",
    "    try:\n",
    "        price.append(soup.select('.rui__sc-62xokl-0')[0].get_text())\n",
    "    except Exception as e:\n",
    "        print(i+' no price')\n",
    "    try:\n",
    "        bed.append(soup.select('.rui__sc-1thjdnb-0')[0].get_text())\n",
    "    except Exception as e:\n",
    "        print(i+' no bed')\n",
    "    try:\n",
    "        bath.append(soup.select('.rui__jalfv4-0')[0].get_text())\n",
    "    except Exception as e:\n",
    "        print(i+' no bath')\n",
    "    try:\n",
    "        sqrt.append(soup.select('.rui__sc-147u46e-0')[0].get_text())\n",
    "    except:\n",
    "        print(i+' no sqrt')\n",
    "    try:\n",
    "        lot_sqrt.append(soup.select('.rui__og1gls-0')[0].get_text())\n",
    "    except Exception as e:\n",
    "        print(i+' no lot sqrt')\n",
    "    try:\n",
    "        address.append(soup.select('.address')[0].get_text())\n",
    "    except Exception as e:\n",
    "        print(i+' no address')\n",
    "    try:\n",
    "        presenter.append(soup.select('.provider-data')[0].select('.provider')[0].get_text())\n",
    "    except Exception as e:\n",
    "        print(i+' no presenter')\n",
    "    try:\n",
    "        broker.append(soup.select('.provider-data')[0].select('.provider')[1].get_text())\n",
    "    except Exception as e:\n",
    "        print(i+' no broker')\n",
    "    time.sleep(10)\n"
   ]
  },
  {
   "cell_type": "code",
   "execution_count": 6,
   "metadata": {},
   "outputs": [],
   "source": [
    "import pandas as pd\n",
    "df = pd.DataFrame()\n",
    "df['Price']=price\n",
    "df['bed']=bed\n",
    "df['bath']=bath\n",
    "df['sqrt']=sqrt\n",
    "df['address']=address\n",
    "df['presenter']=presenter\n",
    "df['broker']=broker"
   ]
  },
  {
   "cell_type": "code",
   "execution_count": 7,
   "metadata": {},
   "outputs": [
    {
     "data": {
      "text/html": [
       "<div>\n",
       "<style scoped>\n",
       "    .dataframe tbody tr th:only-of-type {\n",
       "        vertical-align: middle;\n",
       "    }\n",
       "\n",
       "    .dataframe tbody tr th {\n",
       "        vertical-align: top;\n",
       "    }\n",
       "\n",
       "    .dataframe thead th {\n",
       "        text-align: right;\n",
       "    }\n",
       "</style>\n",
       "<table border=\"1\" class=\"dataframe\">\n",
       "  <thead>\n",
       "    <tr style=\"text-align: right;\">\n",
       "      <th></th>\n",
       "      <th>Price</th>\n",
       "      <th>bed</th>\n",
       "      <th>bath</th>\n",
       "      <th>sqrt</th>\n",
       "      <th>address</th>\n",
       "      <th>presenter</th>\n",
       "      <th>broker</th>\n",
       "    </tr>\n",
       "  </thead>\n",
       "  <tbody>\n",
       "  </tbody>\n",
       "</table>\n",
       "</div>"
      ],
      "text/plain": [
       "Empty DataFrame\n",
       "Columns: [Price, bed, bath, sqrt, address, presenter, broker]\n",
       "Index: []"
      ]
     },
     "execution_count": 7,
     "metadata": {},
     "output_type": "execute_result"
    }
   ],
   "source": [
    "df"
   ]
  },
  {
   "cell_type": "code",
   "execution_count": null,
   "metadata": {},
   "outputs": [],
   "source": []
  }
 ],
 "metadata": {
  "interpreter": {
   "hash": "0507ca4863d74825e19143f64061a0d98fde3c42611721bd9ba5ee5b8cfcb010"
  },
  "kernelspec": {
   "display_name": "Python 3.8.5 64-bit ('base': conda)",
   "language": "python",
   "name": "python3"
  },
  "language_info": {
   "codemirror_mode": {
    "name": "ipython",
    "version": 3
   },
   "file_extension": ".py",
   "mimetype": "text/x-python",
   "name": "python",
   "nbconvert_exporter": "python",
   "pygments_lexer": "ipython3",
   "version": "3.8.5"
  },
  "orig_nbformat": 4
 },
 "nbformat": 4,
 "nbformat_minor": 2
}
